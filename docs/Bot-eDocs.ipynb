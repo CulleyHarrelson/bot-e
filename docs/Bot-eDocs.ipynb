{
 "cells": [
  {
   "cell_type": "markdown",
   "id": "c7bc88cd-0222-45f5-8817-c9fd17d7e649",
   "metadata": {},
   "source": [
    "# Sequence Diagram UML\n",
    "\n",
    "\n",
    "\n",
    "![Sequence Diagram](bot-e_sequence.png \"Sequence Diagram\")\n",
    "\n",
    "```uml\n",
    "\n",
    "sequenceDiagram\n",
    "    participant Flutter App\n",
    "    participant Bot-e API\n",
    "    participant Postgresql\n",
    "    participant SNS Topic\n",
    "    participant bot-e Lambda\n",
    "    participant OpenAI\n",
    "    Flutter App->>Bot-e API: Advice Request\n",
    "    Bot-e API->>Postgresql: Store Question\n",
    "    Postgresql->>SNS Topic: Trigger Topic\n",
    "    bot-e Lambda->>SNS Topic: Listens for New\n",
    "    bot-e Lambda->>OpenAI: Query APIs\n",
    "    OpenAI->>bot-e Lambda: Response\n",
    "    bot-e Lambda->>Postgresql: Store Data\n",
    "    bot-e Lambda->>SNS Topic: Post Complete Topic\n",
    "    Flutter App->>SNS Topic: Listens for Completion\n",
    "```\n",
    "\n",
    "![Sequence Diagram](bot-e_flow.png \"Sequence Diagram\")\n",
    "\n",
    "```uml\n",
    "\n",
    "graph TB\n",
    "  U[\"User\"] -- \"Request\" --> B[\"Botty\"]\n",
    "  B -- \"Save Request\" --> DB[\"Database\"]\n",
    "  DB -- \"Process Request\" --> AQ[\"Analysis Queue\"]\n",
    "  AQ -- \"Call openAI API\" --> AV[\"Analysis Value\"]\n",
    "  DB -- \"Process Request\" --> EQ[\"Embeddings Queue\"]\n",
    "  EQ -- \"Call openAI API\" --> EV[\"Embedding Value\"]\n",
    "  DB -- \"Process Request\" --> MQ[\"Moderation Queue\"]\n",
    "  MQ -- \"Call openAI API\" --> MV[\"Moderation Value\"]\n",
    "  AV -- \"Values in DB\" --> B\n",
    "  EV -- \"Values in DB\" --> B\n",
    "  MV -- \"Values in DB\" --> B\n",
    "  B -- \"Create System Prompt\" --> SP[\"System Prompt\"]\n",
    "  SP -- \"Response Queue\" --> RQ[\"Response Queue\"]\n",
    "  RQ -- \"Process OpenAI API\" --> R[\"Response\"]\n",
    "  R -- \"Save to DB\" --> B\n",
    "  B -- \"Return Response\" --> U\n",
    "  ```"
   ]
  },
  {
   "cell_type": "code",
   "execution_count": null,
   "id": "fe0ae3d0-a201-4b14-a5c7-6ca220e63da2",
   "metadata": {},
   "outputs": [],
   "source": []
  }
 ],
 "metadata": {
  "kernelspec": {
   "display_name": "Python 3 (ipykernel)",
   "language": "python",
   "name": "python3"
  },
  "language_info": {
   "codemirror_mode": {
    "name": "ipython",
    "version": 3
   },
   "file_extension": ".py",
   "mimetype": "text/x-python",
   "name": "python",
   "nbconvert_exporter": "python",
   "pygments_lexer": "ipython3",
   "version": "3.11.4"
  }
 },
 "nbformat": 4,
 "nbformat_minor": 5
}
