{
 "cells": [
  {
   "cell_type": "markdown",
   "id": "c7bc88cd-0222-45f5-8817-c9fd17d7e649",
   "metadata": {},
   "source": [
    "# Sequence Diagram UML\n",
    "\n",
    "\n",
    "\n",
    "![Sequence Diagram](bot-e_sequence.png \"Sequence Diagram\")\n",
    "\n",
    "```uml\n",
    "\n",
    "sequenceDiagram\n",
    "    participant Flutter App\n",
    "    participant Bot-e API\n",
    "    participant Postgresql\n",
    "    participant SNS Topic\n",
    "    participant bot-e Lambda\n",
    "    participant OpenAI\n",
    "    Flutter App->>Bot-e API: Advice Request\n",
    "    Bot-e API->>Postgresql: Store Question\n",
    "    Postgresql->>SNS Topic: Trigger Topic\n",
    "    bot-e Lambda->>SNS Topic: Listens for New\n",
    "    bot-e Lambda->>OpenAI: Query APIs\n",
    "    OpenAI->>bot-e Lambda: Response\n",
    "    bot-e Lambda->>Postgresql: Store Data\n",
    "    bot-e Lambda->>SNS Topic: Post Complete Topic\n",
    "    Flutter App->>SNS Topic: Listens for Completion\n",
    "```\n",
    "\n",
    "![Sequence Diagram](bot-e_flow.png \"Sequence Diagram\")\n",
    "\n",
    "```uml\n",
    "\n",
    "graph TB\n",
    "  U[\"User\"] -- \"Request\" --> B[\"Botty\"]\n",
    "  B -- \"Save Request\" --> DB[\"Database\"]\n",
    "  DB -- \"Process Request\" --> AQ[\"Analysis Queue\"]\n",
    "  AQ -- \"Call openAI API\" --> AV[\"Analysis Value\"]\n",
    "  DB -- \"Process Request\" --> EQ[\"Embeddings Queue\"]\n",
    "  EQ -- \"Call openAI API\" --> EV[\"Embedding Value\"]\n",
    "  DB -- \"Process Request\" --> MQ[\"Moderation Queue\"]\n",
    "  MQ -- \"Call openAI API\" --> MV[\"Moderation Value\"]\n",
    "  AV -- \"Values in DB\" --> B\n",
    "  EV -- \"Values in DB\" --> B\n",
    "  MV -- \"Values in DB\" --> B\n",
    "  B -- \"Create System Prompt\" --> SP[\"System Prompt\"]\n",
    "  SP -- \"Response Queue\" --> RQ[\"Response Queue\"]\n",
    "  RQ -- \"Process OpenAI API\" --> R[\"Response\"]\n",
    "  R -- \"Save to DB\" --> B\n",
    "  B -- \"Return Response\" --> U\n",
    "  ```"
   ]
  },
  {
   "cell_type": "markdown",
   "id": "48615cde-a838-4426-8515-bd96bbc5d8b2",
   "metadata": {},
   "source": [
    "# System Diagram\n",
    "\n",
    "![bot-e](https://mermaid.ink/svg/pako:eNplkcFqwzAMhl_F-NRCtwfILawZDBZWlsEuuSixmrmNZaPIg1H67nMaiDumg9H_-bdkWxfde4O60M6ScRBaUoq9l82m8_KA2-0MlKJkejxNi5ijNN-2R_Xkx-go4xr4jGJpWFB5eMl771XzkdUr8IBppSFCSurUYLyrP0flOjRmLbb2SFYGsZ7-8gN7F0RVNFhC5H_n8rUX_jxGEeRssm_N3QPJsLcmg0_sVBlCBnuczuLDDCe90w7ZgTXpKy-zp9XyhQ5bXaTU4BHiKK1u6ZqsEMU3P9TrQjjiTsdgQHBvYWBwujjCOK20MlY8rxBvsl5mdhvd9Rf7TISe \"bot-e\")\n",
    "\n",
    "mindmap\n",
    "  root((bot-e))\n",
    "    node.js\n",
    "        Advice Column\n",
    "        Marketing\n",
    "    API\n",
    "        REST\n",
    "        Large Language Models\n",
    "            Embedding\n",
    "            Moderation\n",
    "            Prompt Engineering\n",
    "                Advice\n",
    "    Flutter\n",
    "        iOS\n",
    "        Android\n",
    "        Web App\n",
    "        Desktop Apps\n",
    "        "
   ]
  },
  {
   "cell_type": "code",
   "execution_count": null,
   "id": "28dd3df2-2132-49b0-99d1-8e3cf2681034",
   "metadata": {},
   "outputs": [],
   "source": []
  }
 ],
 "metadata": {
  "kernelspec": {
   "display_name": "Python 3 (ipykernel)",
   "language": "python",
   "name": "python3"
  },
  "language_info": {
   "codemirror_mode": {
    "name": "ipython",
    "version": 3
   },
   "file_extension": ".py",
   "mimetype": "text/x-python",
   "name": "python",
   "nbconvert_exporter": "python",
   "pygments_lexer": "ipython3",
   "version": "3.11.4"
  }
 },
 "nbformat": 4,
 "nbformat_minor": 5
}
