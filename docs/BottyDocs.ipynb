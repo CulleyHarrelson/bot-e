{
 "cells": [
  {
   "cell_type": "markdown",
   "id": "c7bc88cd-0222-45f5-8817-c9fd17d7e649",
   "metadata": {},
   "source": [
    "# System Diagram UML\n",
    "\n",
    "![System Diagram](system_diagram.png \"System Diagram\")\n",
    "\n",
    "To rebuild the system diagram execute the code below at https://www.planttext.com/\n",
    "\n",
    "\n",
    "```uml\n",
    "@startuml\n",
    "\n",
    "class User {\n",
    "    <<actor>>\n",
    "    - name: string\n",
    "}\n",
    "\n",
    "class NodeJSServer {\n",
    "    - database: Database\n",
    "    - sns: AWS_SNS\n",
    "    + processRequest(request: Request): void\n",
    "    + sendPushNotification(user: User): void\n",
    "}\n",
    "\n",
    "class Request {\n",
    "    - text: string\n",
    "}\n",
    "\n",
    "class Database {\n",
    "    + logRequest(request: Request): void\n",
    "    + updateRequestCompletion(request: Request): void\n",
    "}\n",
    "\n",
    "class AWS_SNS {\n",
    "    + publish(topic: Topic, message: string): void\n",
    "}\n",
    "\n",
    "class Topic {\n",
    "    - name: string\n",
    "}\n",
    "\n",
    "class RequestPrioritizer {\n",
    "    + monitorTopic(): void\n",
    "    + trackOutstandingRequests(): void\n",
    "    + estimateWaitTimes(): void\n",
    "    + moveRequestToTop(request: Request): void\n",
    "    + getNextRequest(): Request\n",
    "}\n",
    "\n",
    "class RequestProcessor {\n",
    "    - database: Database\n",
    "    - sns: AWS_SNS\n",
    "    + processRequest(request: Request): void\n",
    "    + updateSNSWithCompletedRequest(request: Request): void\n",
    "}\n",
    "\n",
    "class NotificationLambda {\n",
    "    + monitorTopic(): void\n",
    "    + sendPushNotification(user: User): void\n",
    "}\n",
    "\n",
    "User --> NodeJSServer: initiates\n",
    "NodeJSServer --> Database: logRequest\n",
    "NodeJSServer --> AWS_SNS: send notice\n",
    "NodeJSServer --> NotificationLambda: communicate\n",
    "\n",
    "RequestProcessor --> Database: updateRequestCompletion\n",
    "RequestProcessor --> AWS_SNS: updateSNSWithCompletedRequest\n",
    "RequestProcessor --> RequestPrioritizer: getNextRequest\n",
    "\n",
    "RequestPrioritizer --> AWS_SNS: monitorTopic\n",
    "\n",
    "NotificationLambda --> AWS_SNS: monitorTopic\n",
    "NotificationLambda --> NodeJSServer: send push notification\n",
    "\n",
    "@enduml\n",
    "\n",
    "\n",
    "```\n"
   ]
  },
  {
   "cell_type": "markdown",
   "id": "832e8fe9-8f57-4cec-858a-18d870e60468",
   "metadata": {},
   "source": [
    "# GraphViz\n",
    "\n",
    "This is here as example for when it is needed\n"
   ]
  },
  {
   "cell_type": "code",
   "execution_count": 1,
   "id": "63c9830f-02fb-493d-9981-b76d03fc6a88",
   "metadata": {},
   "outputs": [
    {
     "name": "stderr",
     "output_type": "stream",
     "text": [
      "Warning: darkbrown is not a known color.\n"
     ]
    },
    {
     "data": {
      "text/plain": [
       "'cat_family_tree.gv.pdf'"
      ]
     },
     "execution_count": 1,
     "metadata": {},
     "output_type": "execute_result"
    }
   ],
   "source": [
    "from graphviz import Digraph\n",
    "\n",
    "dot = Digraph(comment='The Stray Cat Family Tree')\n",
    "\n",
    "# Add nodes with color\n",
    "dot.node('A', 'Cat 0 (calico)', color='lightblue2', style='filled')\n",
    "dot.node('B', 'Cat 1 (calico)', color='darkblue', fontcolor='white', style='filled')\n",
    "dot.node('C', 'Cat 1.1 (Orange)', color='orange', style='filled')\n",
    "dot.node('D', 'Cat 1.2 (Black)', color='black', fontcolor='white', style='filled')\n",
    "dot.node('H', 'Cat Car (adopoted by MA)', fontcolor='white', color='black', style='filled')\n",
    "dot.node('I', 'Cat Monica (adopoted by Taylor)', color='grey', style='filled')\n",
    "dot.node('J', 'Cat Rachel (adopoted by Taylor)', color='darkbrown', fontcolor='white', style='filled')\n",
    "dot.node('E', 'Cat 2 (mustashe) deceased', color='brown', style='filled')\n",
    "dot.node('F', 'Cat 3 (white foot)', color='beige', style='filled')\n",
    "dot.node('G', 'Cat 4 (grey)', color='grey', style='filled')\n",
    "\n",
    "# Add edges\n",
    "dot.edges(['AB', 'BC', 'BD', 'BH', 'BI', 'BJ', 'AE', 'AF', 'AG'])\n",
    "\n",
    "# Render the graph to a file (e.g., \"cat_family_tree.gv\")\n",
    "dot.render('cat_family_tree.gv', view=True)\n"
   ]
  },
  {
   "cell_type": "code",
   "execution_count": null,
   "id": "fe0ae3d0-a201-4b14-a5c7-6ca220e63da2",
   "metadata": {},
   "outputs": [],
   "source": []
  }
 ],
 "metadata": {
  "kernelspec": {
   "display_name": "Python 3 (ipykernel)",
   "language": "python",
   "name": "python3"
  },
  "language_info": {
   "codemirror_mode": {
    "name": "ipython",
    "version": 3
   },
   "file_extension": ".py",
   "mimetype": "text/x-python",
   "name": "python",
   "nbconvert_exporter": "python",
   "pygments_lexer": "ipython3",
   "version": "3.11.4"
  }
 },
 "nbformat": 4,
 "nbformat_minor": 5
}
