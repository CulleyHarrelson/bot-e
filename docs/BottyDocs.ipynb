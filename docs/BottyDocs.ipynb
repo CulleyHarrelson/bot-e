{
 "cells": [
  {
   "cell_type": "markdown",
   "id": "c7bc88cd-0222-45f5-8817-c9fd17d7e649",
   "metadata": {
    "jp-MarkdownHeadingCollapsed": true
   },
   "source": [
    "# Sequence Diagram UML\n",
    "\n",
    "\n",
    "\n",
    "![Sequence Diagram](botty_sequence.svg \"Sequence Diagram\")\n",
    "\n",
    "Create a sequence diagram and uml diagram for the following:\n",
    "The User interacts with node.js\n",
    "The node.js saves the users request for advice to the Aurora DB.  Advice is the major piece of data being processed.\n",
    "Aurora sends a message to the Embeddings Lambda and the Botty lambda.\n",
    "The Embeddings lambda contacts the OpenAI embeddings REST API and gets embeddings for the advice text. The Embeddings Lambda saves the tembeddings back to Aurora DB. \n",
    "Aurora DB also sends a message to the Botty Lambda.  Botty Lambda contacts OpenAI to first get diagnostic information on the advice text. Botty sends saves this diagnostic information to Aurora DB.  \n",
    "Aurora DB processes new advice diagnostics and creates an system prompt. Aurora DB contacts Botty Lambda who sends the collected data to OpenAI.  OpenAI responds and Botty Lambda, and Botty Lambda updates Aurora DB.\n",
    "When advice is received Aurora DB contacts the Lambda.  The Notification Lambda notifies the user that their advice is ready.\n",
    "The actors in this are User, Node.js, Aurora DB, SNS Server, Botty Lambda, Embeddings Lambda, Notification Lambda\n"
   ]
  },
  {
   "cell_type": "markdown",
   "id": "832e8fe9-8f57-4cec-858a-18d870e60468",
   "metadata": {},
   "source": [
    "# GraphViz\n",
    "\n",
    "This is here as example for when it is needed\n"
   ]
  },
  {
   "cell_type": "code",
   "execution_count": 1,
   "id": "63c9830f-02fb-493d-9981-b76d03fc6a88",
   "metadata": {},
   "outputs": [],
   "source": [
    "from graphviz import Digraph\n",
    "\n",
    "dot = Digraph(comment='The Stray Cat Family Tree')\n",
    "\n",
    "# Add nodes with color\n",
    "dot.node('A', 'Cat 0 (calico)', color='lightblue2', style='filled')\n",
    "dot.node('B', 'Cat 1 (calico)', color='darkblue', fontcolor='white', style='filled')\n",
    "dot.node('C', 'Cat 1.1 (Orange)', color='orange', style='filled')\n",
    "dot.node('D', 'Cat 1.2 (Black)', color='black', fontcolor='white', style='filled')\n",
    "dot.node('H', 'Cat Car (adopoted by MA)', fontcolor='white', color='black', style='filled')\n",
    "dot.node('I', 'Cat Monica (adopoted by Taylor)', color='grey', style='filled')\n",
    "dot.node('J', 'Cat Rachel (adopoted by Taylor)', color='darkbrown', fontcolor='white', style='filled')\n",
    "dot.node('E', 'Cat 2 (mustashe) deceased', color='brown', style='filled')\n",
    "dot.node('F', 'Cat 3 (white foot)', color='beige', style='filled')\n",
    "dot.node('G', 'Cat 4 (grey)', color='grey', style='filled')\n",
    "\n",
    "# Add edges\n",
    "dot.edges(['AB', 'BC', 'BD', 'BH', 'BI', 'BJ', 'AE', 'AF', 'AG'])\n",
    "\n",
    "# Render the graph to a file (e.g., \"cat_family_tree.gv\")\n",
    "# dot.render('cat_family_tree.gv', view=True)\n"
   ]
  },
  {
   "cell_type": "code",
   "execution_count": null,
   "id": "fe0ae3d0-a201-4b14-a5c7-6ca220e63da2",
   "metadata": {},
   "outputs": [],
   "source": []
  }
 ],
 "metadata": {
  "kernelspec": {
   "display_name": "Python 3 (ipykernel)",
   "language": "python",
   "name": "python3"
  },
  "language_info": {
   "codemirror_mode": {
    "name": "ipython",
    "version": 3
   },
   "file_extension": ".py",
   "mimetype": "text/x-python",
   "name": "python",
   "nbconvert_exporter": "python",
   "pygments_lexer": "ipython3",
   "version": "3.11.4"
  }
 },
 "nbformat": 4,
 "nbformat_minor": 5
}
