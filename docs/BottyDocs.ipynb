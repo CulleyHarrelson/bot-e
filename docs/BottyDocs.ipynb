{
 "cells": [
  {
   "cell_type": "markdown",
   "id": "c7bc88cd-0222-45f5-8817-c9fd17d7e649",
   "metadata": {},
   "source": [
    "# System Diagram UML\n",
    "\n",
    "![System Diagram](system_diagram.png \"System Diagram\")\n",
    "\n",
    "To rebuild the system diagram execute the code below at https://www.planttext.com/\n",
    "\n",
    "\n",
    "```plantuml\n",
    "@startuml\n",
    "\n",
    "actor User\n",
    "rectangle \"Node.js Server\" as NodeJsServer\n",
    "database \"Amazon Aurora DB\" as AuroraDB\n",
    "rectangle \"AWS SNS\" as SNS\n",
    "rectangle \"RequestProcessor\\n(AWS Lambda)\" as RequestProcessor\n",
    "\n",
    "User -[#blue]-> NodeJsServer : initiates request\n",
    "User <-[#blue]- NodeJsServer : HTTP Request (REST API)\n",
    "NodeJsServer -[#blue]-> AuroraDB : Save user request details\n",
    "NodeJsServer -[#blue]-> SNS : Publish request_id to topic\n",
    "SNS -[#blue]-> RequestProcessor : New Request notification\n",
    "RequestProcessor -[#blue]-> RequestProcessor : Process request (unless already processing)\n",
    "RequestProcessor -[#blue]-> AuroraDB : Update database after processing\n",
    "RequestProcessor -[#blue]-> SNS : Notify request completion\n",
    "NodeJsServer <-[#blue]- SNS : Request Completed notification\n",
    "NodeJsServer -[#blue]-> User : Notifies user and updates webpage\n",
    "\n",
    "@enduml\n",
    "\n",
    "```\n",
    "\n",
    "![Sequence Diagram](botty_sequence.png \"Sequence Diagram\")\n",
    "\n",
    "\n",
    "```plantuml\n",
    "@startuml\n",
    "\n",
    "actor User\n",
    "participant NodeJsServer as \"Node.js Server\"\n",
    "database AuroraDB as \"Amazon Aurora DB\"\n",
    "participant SNS as \"AWS SNS\"\n",
    "participant RequestProcessor as \"RequestProcessor\\n(AWS Lambda)\"\n",
    "\n",
    "User -> NodeJsServer : initiates request\n",
    "User <-- NodeJsServer : HTTP Request (REST API)\n",
    "NodeJsServer -> AuroraDB : Save user request details\n",
    "NodeJsServer -> SNS : Publish request_id to topic\n",
    "SNS -> RequestProcessor : New Request notification\n",
    "RequestProcessor -> RequestProcessor : Process request (unless already processing)\n",
    "RequestProcessor -> AuroraDB : Update database after processing\n",
    "RequestProcessor -> SNS : Notify request completion\n",
    "NodeJsServer <-- SNS : Request Completed notification\n",
    "NodeJsServer -> User : Notifies user and updates webpage\n",
    "\n",
    "@enduml\n",
    "\n",
    "```"
   ]
  },
  {
   "cell_type": "markdown",
   "id": "832e8fe9-8f57-4cec-858a-18d870e60468",
   "metadata": {},
   "source": [
    "# GraphViz\n",
    "\n",
    "This is here as example for when it is needed\n"
   ]
  },
  {
   "cell_type": "code",
   "execution_count": 1,
   "id": "63c9830f-02fb-493d-9981-b76d03fc6a88",
   "metadata": {},
   "outputs": [],
   "source": [
    "from graphviz import Digraph\n",
    "\n",
    "dot = Digraph(comment='The Stray Cat Family Tree')\n",
    "\n",
    "# Add nodes with color\n",
    "dot.node('A', 'Cat 0 (calico)', color='lightblue2', style='filled')\n",
    "dot.node('B', 'Cat 1 (calico)', color='darkblue', fontcolor='white', style='filled')\n",
    "dot.node('C', 'Cat 1.1 (Orange)', color='orange', style='filled')\n",
    "dot.node('D', 'Cat 1.2 (Black)', color='black', fontcolor='white', style='filled')\n",
    "dot.node('H', 'Cat Car (adopoted by MA)', fontcolor='white', color='black', style='filled')\n",
    "dot.node('I', 'Cat Monica (adopoted by Taylor)', color='grey', style='filled')\n",
    "dot.node('J', 'Cat Rachel (adopoted by Taylor)', color='darkbrown', fontcolor='white', style='filled')\n",
    "dot.node('E', 'Cat 2 (mustashe) deceased', color='brown', style='filled')\n",
    "dot.node('F', 'Cat 3 (white foot)', color='beige', style='filled')\n",
    "dot.node('G', 'Cat 4 (grey)', color='grey', style='filled')\n",
    "\n",
    "# Add edges\n",
    "dot.edges(['AB', 'BC', 'BD', 'BH', 'BI', 'BJ', 'AE', 'AF', 'AG'])\n",
    "\n",
    "# Render the graph to a file (e.g., \"cat_family_tree.gv\")\n",
    "# dot.render('cat_family_tree.gv', view=True)\n"
   ]
  },
  {
   "cell_type": "code",
   "execution_count": null,
   "id": "fe0ae3d0-a201-4b14-a5c7-6ca220e63da2",
   "metadata": {},
   "outputs": [],
   "source": []
  }
 ],
 "metadata": {
  "kernelspec": {
   "display_name": "Python 3 (ipykernel)",
   "language": "python",
   "name": "python3"
  },
  "language_info": {
   "codemirror_mode": {
    "name": "ipython",
    "version": 3
   },
   "file_extension": ".py",
   "mimetype": "text/x-python",
   "name": "python",
   "nbconvert_exporter": "python",
   "pygments_lexer": "ipython3",
   "version": "3.11.4"
  }
 },
 "nbformat": 4,
 "nbformat_minor": 5
}
