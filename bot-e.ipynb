{
 "cells": [
  {
   "cell_type": "markdown",
   "id": "69eb2b9e-143b-490c-bbca-29009270b20e",
   "metadata": {},
   "source": [
    "# Bot-E Image Meme Generation\n",
    "\n",
    "This notebook currently focuses on creating memes for bot-e questions."
   ]
  },
  {
   "cell_type": "markdown",
   "id": "ef484e3b-378b-4094-80cb-d91215e74e70",
   "metadata": {},
   "source": [
    "# "
   ]
  },
  {
   "cell_type": "code",
   "execution_count": 29,
   "id": "884f4c44-d092-4a10-a6f4-4667df4bc42e",
   "metadata": {},
   "outputs": [
    {
     "name": "stderr",
     "output_type": "stream",
     "text": [
      "/var/folders/dv/ts7drh5n0hb48yx2_5vpm3kw0000gq/T/ipykernel_64553/2035832574.py:17: DeprecationWarning: textsize is deprecated and will be removed in Pillow 10 (2023-07-01). Use textbbox or textlength instead.\n",
      "  text_width1, text_height1 = draw.textsize(text1, font=font)\n",
      "/var/folders/dv/ts7drh5n0hb48yx2_5vpm3kw0000gq/T/ipykernel_64553/2035832574.py:22: DeprecationWarning: textsize is deprecated and will be removed in Pillow 10 (2023-07-01). Use textbbox or textlength instead.\n",
      "  text2_width, text2_height = draw.textsize(text2, font=font)\n"
     ]
    }
   ],
   "source": [
    "from PIL import Image, ImageDraw, ImageFont\n",
    "import requests\n",
    "from io import BytesIO\n",
    "\n",
    "def hex_to_rgb(value):\n",
    "    value = value.lstrip('#')\n",
    "    length = len(value)\n",
    "    return tuple(\n",
    "        int(value[i:i + length // 3], 16) for i in range(0, length, length // 3)\n",
    "    )\n",
    "    \n",
    "def create_meme(image_path, font_path, text1, text2=None, position='bottom', alignment='right', font_size=40, font_color='#FFFFFF', horizontal_margin=10, vertical_margin=10):\n",
    "    img = Image.open(image_path)\n",
    "    draw = ImageDraw.Draw(img)\n",
    "    font = ImageFont.truetype(font_path, font_size)\n",
    "\n",
    "    text_width1, text_height1 = draw.textsize(text1, font=font)\n",
    "    image_width, image_height = img.size\n",
    "\n",
    "    text2_width = text2_height = 0\n",
    "    if text2:\n",
    "        text2_width, text2_height = draw.textsize(text2, font=font)\n",
    "\n",
    "    # Determine text position based on the specified position and alignment\n",
    "    x1 = x2 = 0\n",
    "    y1 = y2 = 0\n",
    "    line_spacing = 5  # adjust line spacing to your preference\n",
    "\n",
    "    if position == 'top':\n",
    "        y1 = vertical_margin\n",
    "        if text2:\n",
    "            y2 = y1 + text_height1 + line_spacing\n",
    "    elif position == 'bottom':\n",
    "        y1 = image_height - text_height1 - vertical_margin\n",
    "        if text2:\n",
    "            y1 = y1 - text2_height - line_spacing  # adjust y1 upwards to fit second line\n",
    "            y2 = image_height - text2_height - vertical_margin\n",
    "\n",
    "    if alignment == 'left':\n",
    "        x1 = x2 = horizontal_margin\n",
    "    elif alignment == 'right':\n",
    "        x1 = x2 = image_width - max(text_width1, text2_width) - horizontal_margin\n",
    "\n",
    "    draw.text((x1, y1), text1, hex_to_rgb(font_color), font=font)\n",
    "    if text2:\n",
    "        draw.text((x2, y2), text2, hex_to_rgb(font_color), font=font)\n",
    "\n",
    "    img.save('meme.png')\n",
    "    img.show()\n",
    "\n",
    "# Example Usage\n",
    "create_meme(\n",
    "    image_path='images/memes/7KfmXdL3Kng.png',\n",
    "    #image_path='images/memes/7OGx5myhvMn.png',\n",
    "    font_path='fonts/Lato-Regular.ttf',\n",
    "    text1='Squash',\n",
    "    text2='Bros',\n",
    "    position='top',\n",
    "    alignment='left',\n",
    "    font_size=20,\n",
    "    font_color='#ffffff',\n",
    "    horizontal_margin=20,\n",
    "    vertical_margin=270\n",
    ")"
   ]
  },
  {
   "cell_type": "code",
   "execution_count": null,
   "id": "c60f9c14-c1ae-4cb9-81cf-05843184dcc5",
   "metadata": {},
   "outputs": [],
   "source": []
  },
  {
   "cell_type": "code",
   "execution_count": null,
   "id": "922ba0ea-3038-4c85-92a0-9b4c2b186f14",
   "metadata": {},
   "outputs": [],
   "source": []
  },
  {
   "cell_type": "code",
   "execution_count": null,
   "id": "babe84f1-f290-48ac-a0f2-4f74cc38ad8c",
   "metadata": {},
   "outputs": [],
   "source": []
  }
 ],
 "metadata": {
  "kernelspec": {
   "display_name": "Python 3 (ipykernel)",
   "language": "python",
   "name": "python3"
  },
  "language_info": {
   "codemirror_mode": {
    "name": "ipython",
    "version": 3
   },
   "file_extension": ".py",
   "mimetype": "text/x-python",
   "name": "python",
   "nbconvert_exporter": "python",
   "pygments_lexer": "ipython3",
   "version": "3.11.5"
  }
 },
 "nbformat": 4,
 "nbformat_minor": 5
}
