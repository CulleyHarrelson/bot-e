{
 "cells": [
  {
   "cell_type": "markdown",
   "id": "69eb2b9e-143b-490c-bbca-29009270b20e",
   "metadata": {},
   "source": [
    "# Preview Analysis data\n",
    "\n",
    "This script surfaces analysis data to ascertain its value"
   ]
  },
  {
   "cell_type": "code",
   "execution_count": 26,
   "id": "49936def-e266-4d89-b5f4-e8aeaf7c5885",
   "metadata": {},
   "outputs": [],
   "source": [
    "import bote \n",
    "import json\n",
    "import pandas as pd\n",
    "\n",
    "alt.renderers.enable('mimetype')\n",
    "\n",
    "conn, cursor = bote.db_connect()\n",
    "\n",
    "cursor.execute(\"SELECT * FROM ask where analysis is not null\")\n",
    "data = cursor.fetchall()\n",
    "\n",
    "\n",
    "df = pd.DataFrame(data)\n",
    "df.columns = [desc[0] for desc in cursor.description]\n",
    "\n",
    "invalid_rows = []\n",
    "for i, val in df['analysis'].items():\n",
    "    try:\n",
    "        json.loads(val)\n",
    "    except (json.JSONDecodeError, TypeError):\n",
    "        invalid_rows.append(i)\n",
    "\n",
    "df = df.drop(invalid_rows)\n",
    "\n",
    "df['analysis'] = df['analysis'].apply(json.loads)\n",
    "df_analysis = pd.json_normalize(df['analysis'])\n",
    "df = df.drop(\"embedding\", axis=1)\n",
    "\n",
    "def print_value_counts():\n",
    "    for column in df_analysis.columns:\n",
    "        print(f\"\\nColumn: {column}\")\n",
    "        print(df_analysis[column].value_counts())\n",
    "\n",
    "def print_df():\n",
    "    pd.set_option('display.max_colwidth', 1000)\n",
    "    pd.set_option('display.max_rows', None)\n",
    "    print(df)\n",
    "    \n",
    "html_output = df.to_html()\n",
    "\n",
    "# Specify the file path where you want to save the HTML file\n",
    "output_file_path = \"output.html\"\n",
    "\n",
    "# Write the HTML representation to the file\n",
    "with open(output_file_path, 'w') as f:\n",
    "    f.write(html_output)\n",
    "\n",
    "    \n",
    "#df_analysis['advice_type'].unique()\n",
    "#df_analysis['advice_type'].value_counts()"
   ]
  },
  {
   "cell_type": "code",
   "execution_count": 17,
   "id": "b5f2a15b-df1f-43ba-8eab-4a4c9436b6a5",
   "metadata": {},
   "outputs": [],
   "source": [
    "import bote \n",
    "\n",
    "conn, cursor = bote.db_connect()\n",
    "#ask = bote.random_ask(cursor)\n",
    "\n",
    "#bote.load_random_dicts()\n",
    "#bote.embed_asks()\n",
    "#bote.moderate_asks()\n",
    "#bote.analyze_asks()\n",
    "\n",
    "#bote.get_ask(\"MGlpMj2TunU\")\n"
   ]
  },
  {
   "cell_type": "code",
   "execution_count": null,
   "id": "c986a3e0-9c30-4207-affe-741b0d3cbec2",
   "metadata": {},
   "outputs": [],
   "source": []
  },
  {
   "cell_type": "code",
   "execution_count": null,
   "id": "0606d4cd-648d-4fb1-99c8-1adb1cc3ac97",
   "metadata": {},
   "outputs": [],
   "source": []
  }
 ],
 "metadata": {
  "kernelspec": {
   "display_name": "Python 3 (ipykernel)",
   "language": "python",
   "name": "python3"
  },
  "language_info": {
   "codemirror_mode": {
    "name": "ipython",
    "version": 3
   },
   "file_extension": ".py",
   "mimetype": "text/x-python",
   "name": "python",
   "nbconvert_exporter": "python",
   "pygments_lexer": "ipython3",
   "version": "3.11.4"
  }
 },
 "nbformat": 4,
 "nbformat_minor": 5
}
