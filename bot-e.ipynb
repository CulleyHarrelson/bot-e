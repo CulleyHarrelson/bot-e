{
 "cells": [
  {
   "cell_type": "markdown",
   "id": "69eb2b9e-143b-490c-bbca-29009270b20e",
   "metadata": {},
   "source": [
    "# Preview Analysis data\n",
    "\n",
    "This script surfaces analysis data to ascertain its value"
   ]
  },
  {
   "cell_type": "code",
   "execution_count": 5,
   "id": "49936def-e266-4d89-b5f4-e8aeaf7c5885",
   "metadata": {},
   "outputs": [
    {
     "ename": "SyntaxError",
     "evalue": "'return' outside function (99695582.py, line 16)",
     "output_type": "error",
     "traceback": [
      "\u001b[0;36m  Cell \u001b[0;32mIn[5], line 16\u001b[0;36m\u001b[0m\n\u001b[0;31m    return\u001b[0m\n\u001b[0m    ^\u001b[0m\n\u001b[0;31mSyntaxError\u001b[0m\u001b[0;31m:\u001b[0m 'return' outside function\n"
     ]
    }
   ],
   "source": [
    "import bote \n",
    "import json\n",
    "import pandas as pd\n",
    "\n",
    "conn, cursor = bote.db_connect()\n",
    "\n",
    "cursor.execute(\"SELECT * FROM ask where analysis is not null\")\n",
    "data = cursor.fetchall()\n",
    "\n",
    "#print(data)\n",
    "\n",
    "df = pd.DataFrame(data)\n",
    "df.columns = [desc[0] for desc in cursor.description]\n",
    "\n",
    "df.head()\n",
    "\n",
    "\n",
    "invalid_rows = []\n",
    "for i, val in df['analysis'].items():\n",
    "    try:\n",
    "        json.loads(val)\n",
    "    except (json.JSONDecodeError, TypeError):\n",
    "        invalid_rows.append(i)\n",
    "\n",
    "df = df.drop(invalid_rows)\n",
    "\n",
    "df['analysis'] = df['analysis'].apply(json.loads)\n",
    "df_analysis = pd.json_normalize(df['analysis'])\n",
    "df = df.drop(\"embedding\", axis=1)\n",
    "\n",
    "def print_value_counts():\n",
    "    for column in df_analysis.columns:\n",
    "        print(f\"\\nColumn: {column}\")\n",
    "        print(df_analysis[column].value_counts())\n",
    "\n",
    "def print_df():\n",
    "    pd.set_option('display.max_colwidth', 1000)\n",
    "    pd.set_option('display.max_rows', None)\n",
    "    print(df)\n",
    "    \n",
    "#html_output = df.to_html()\n",
    "#output_file_path = \"output.html\"\n",
    "#with open(output_file_path, 'w') as f:\n",
    "#    f.write(html_output)\n",
    "\n",
    "df.head()\n",
    "    \n",
    "#df_analysis['advice_type'].unique()\n",
    "#df_analysis['advice_type'].value_counts()"
   ]
  },
  {
   "cell_type": "markdown",
   "id": "ef484e3b-378b-4094-80cb-d91215e74e70",
   "metadata": {},
   "source": [
    "# "
   ]
  },
  {
   "cell_type": "code",
   "execution_count": 41,
   "id": "0606d4cd-648d-4fb1-99c8-1adb1cc3ac97",
   "metadata": {},
   "outputs": [
    {
     "name": "stdout",
     "output_type": "stream",
     "text": [
      "{\n",
      "  \"advice_type\": \"OTHER\",\n",
      "  \"subject\": [\"relationships\", \"sexuality and sex\"]\n",
      "}\n"
     ]
    }
   ],
   "source": [
    "import bote \n",
    "import json\n",
    "import pandas as pd\n",
    "\n",
    "conn, cursor = bote.db_connect()\n",
    "\n",
    "cursor.execute(\"SELECT * FROM ask where analysis is not null order by RANDOM() limit 1\")\n",
    "data = cursor.fetchone()\n",
    "\n",
    "analysis = data['analysis']\n",
    "choices = analysis['choices']\n",
    "if choices[0]['finish_reason'] == 'function_call':\n",
    "    print(choices[0]['message']['function_call']['arguments'])\n",
    "\n",
    "\n",
    "#analysis = json.loads(data['analysis'])\n",
    "#print(json.dumps(analysis, indent=5))"
   ]
  },
  {
   "cell_type": "code",
   "execution_count": 54,
   "id": "8aadd1ce-937a-49d7-b7aa-3ab46faabbc9",
   "metadata": {},
   "outputs": [
    {
     "name": "stdout",
     "output_type": "stream",
     "text": [
      "['I’m a freshman in college about three hours from my parents. I have 10 younger siblings—three biological and seven adopted from the foster care system. My parents are doing a wonderful service to these children in providing them with a warm, loving home. However, as the oldest child, a lot of responsibility was put on me from ages 12 to 18 to babysit, watch, and care for my younger siblings. I never felt like I had much of an opportunity to be myself or build my own interests because the vast majority of my time was occupied caring for children. I am attending college on an academic scholarship and I am enjoying my studies and learning to grow on my own. I recently got a summer job near my university and there is an affordable apartment I can rent for the summer while I am working. When I told my parents, they got very upset, claiming that I was “abandoning” them. They said that they needed me home to drive children to appointments and provide summer care. I feel like I gave my teenage years to my family and college should be my opportunity to grow as an individual. My parents think family is more important than anything else and I owe it to them and my siblings to come how and offer care. Who is right in this scenario? If I decide to stay in college, how do I explain my choice to my parents and preserve a relationship with them? If I decide to go home, is it possible to negotiate for a few hours per week that I am not responsible for children to go to a movie, talk to a friend, or do some yoga?', '{\\n  \"advice_type\": \"COUNSEL\"\\n}']\n"
     ]
    }
   ],
   "source": [
    "import bote \n",
    "import json\n",
    "import pandas as pd\n",
    "\n",
    "conn, cursor = bote.db_connect()\n",
    "\n",
    "cursor.execute(\"SELECT prompt, analysis FROM ask where analysis is not null order by RANDOM() limit 1\")\n",
    "data = cursor.fetchone()\n",
    "print(data)"
   ]
  },
  {
   "cell_type": "code",
   "execution_count": 1,
   "id": "ab217a5c-9257-4ca3-8f66-34118d87665a",
   "metadata": {},
   "outputs": [
    {
     "name": "stdout",
     "output_type": "stream",
     "text": [
      "HTML table saved to 'table.html'\n"
     ]
    }
   ],
   "source": [
    "import bote \n",
    "import json\n",
    "import pandas as pd\n",
    "\n",
    "conn, cursor = bote.db_connect()\n",
    "\n",
    "cursor.execute(\"SELECT prompt, analysis FROM ask where analysis is not null\")\n",
    "data = cursor.fetchall()\n",
    "\n",
    "# Convert the list of lists to a DataFrame\n",
    "df = pd.DataFrame(data[1:], columns=data[0])\n",
    "\n",
    "# Convert the DataFrame to an HTML table with Bootstrap styling\n",
    "html_table = df.to_html(classes='table table-striped table-bordered')\n",
    "\n",
    "# Create a complete HTML page\n",
    "html_page = f\"\"\"\n",
    "<!DOCTYPE html>\n",
    "<html lang=\"en\">\n",
    "<head>\n",
    "    <meta charset=\"UTF-8\">\n",
    "    <meta name=\"viewport\" content=\"width=device-width, initial-scale=1.0\">\n",
    "    <title>Table from List of Lists</title>\n",
    "    <link href=\"https://maxcdn.bootstrapcdn.com/bootstrap/4.5.2/css/bootstrap.min.css\" rel=\"stylesheet\">\n",
    "</head>\n",
    "<body>\n",
    "    <div class=\"container mt-5\">\n",
    "        {html_table}\n",
    "    </div>\n",
    "    <script src=\"https://ajax.googleapis.com/ajax/libs/jquery/3.5.1/jquery.min.js\"></script>\n",
    "    <script src=\"https://maxcdn.bootstrapcdn.com/bootstrap/4.5.2/js/bootstrap.min.js\"></script>\n",
    "</body>\n",
    "</html>\n",
    "\"\"\"\n",
    "\n",
    "# Save the HTML page to a file\n",
    "with open('output.html', 'w') as file:\n",
    "    file.write(html_page)\n",
    "\n",
    "print(\"HTML table saved to 'table.html'\")\n"
   ]
  },
  {
   "cell_type": "code",
   "execution_count": null,
   "id": "884f4c44-d092-4a10-a6f4-4667df4bc42e",
   "metadata": {},
   "outputs": [],
   "source": []
  }
 ],
 "metadata": {
  "kernelspec": {
   "display_name": "Python 3 (ipykernel)",
   "language": "python",
   "name": "python3"
  },
  "language_info": {
   "codemirror_mode": {
    "name": "ipython",
    "version": 3
   },
   "file_extension": ".py",
   "mimetype": "text/x-python",
   "name": "python",
   "nbconvert_exporter": "python",
   "pygments_lexer": "ipython3",
   "version": "3.11.4"
  }
 },
 "nbformat": 4,
 "nbformat_minor": 5
}
